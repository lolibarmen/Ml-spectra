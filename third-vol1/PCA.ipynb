{
 "cells": [
  {
   "cell_type": "code",
   "execution_count": 1,
   "id": "83f2ca1d",
   "metadata": {},
   "outputs": [],
   "source": [
    "import pandas as pd\n",
    "\n",
    "file_path = \"../datasets/Dataset_spectr_avarage_main(without_repetitions).csv\"\n",
    "\n",
    "df = pd.read_csv(file_path)"
   ]
  },
  {
   "cell_type": "code",
   "execution_count": 2,
   "id": "c912052d",
   "metadata": {},
   "outputs": [],
   "source": [
    "df['Temp'] = df['Temp'].str.replace(r'T(\\d+)', r'\\1', regex=True)"
   ]
  },
  {
   "cell_type": "code",
   "execution_count": 4,
   "id": "f68132b7",
   "metadata": {},
   "outputs": [],
   "source": [
    "X = df.drop(columns=['Device', 'Folder', 'Sample']).values"
   ]
  },
  {
   "cell_type": "code",
   "execution_count": null,
   "id": "b6c040dd",
   "metadata": {},
   "outputs": [],
   "source": [
    "from sklearn.decomposition import PCA\n",
    "from sklearn.preprocessing import StandardScaler\n",
    "from sklearn.model_selection import train_test_split\n",
    "\n",
    "X = df.drop(columns=['Device', 'Folder', 'Sample']).values\n",
    "\n",
    "scaler = StandardScaler()\n",
    "X_scaled = scaler.fit_transform(X)\n",
    "\n",
    "pca = PCA(n_components=128)\n",
    "principal_components = pca.fit_transform(X_scaled)\n",
    "\n",
    "pca_df = pd.DataFrame(data=principal_components)\n",
    "\n",
    "pca_df = pd.concat([df[['Device', 'Folder', 'Temp', 'Sample']], pca_df], axis=1)\n",
    "\n",
    "print(f\"Explained variance ratio: {pca.explained_variance_ratio_}\")"
   ]
  },
  {
   "cell_type": "code",
   "execution_count": 9,
   "id": "8b963907",
   "metadata": {},
   "outputs": [],
   "source": [
    "output_path = \"../datasets/PCA.csv\"\n",
    "pca_df.to_csv(output_path, index=False)"
   ]
  }
 ],
 "metadata": {
  "kernelspec": {
   "display_name": "Python 3",
   "language": "python",
   "name": "python3"
  },
  "language_info": {
   "codemirror_mode": {
    "name": "ipython",
    "version": 3
   },
   "file_extension": ".py",
   "mimetype": "text/x-python",
   "name": "python",
   "nbconvert_exporter": "python",
   "pygments_lexer": "ipython3",
   "version": "3.13.3"
  }
 },
 "nbformat": 4,
 "nbformat_minor": 5
}
